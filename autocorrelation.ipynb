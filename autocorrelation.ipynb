{
 "cells": [
  {
   "cell_type": "markdown",
   "metadata": {},
   "source": [
    "Parts:\n",
    "+ Practice, How to use autocorrelation.\n",
    "- Theory, what is autocorrlation and how it works.\n",
    "- Example, Train model with autocorrelation on some dataset."
   ]
  },
  {
   "cell_type": "code",
   "execution_count": 1,
   "metadata": {},
   "outputs": [],
   "source": [
    "from types import SimpleNamespace\n",
    "cfg = {\n",
    "    'd_model':32,\n",
    "    'n_heads':8,\n",
    "    'batch_size':1,\n",
    "    'seq_len':20,\n",
    "}\n",
    "cfg = SimpleNamespace(**cfg)"
   ]
  },
  {
   "cell_type": "code",
   "execution_count": 2,
   "metadata": {},
   "outputs": [
    {
     "data": {
      "text/plain": [
       "torch.Size([1, 20, 32])"
      ]
     },
     "execution_count": 2,
     "metadata": {},
     "output_type": "execute_result"
    }
   ],
   "source": [
    "import torch\n",
    "import torch.nn as nn\n",
    "\n",
    "my_dummy_data = torch.rand(cfg.batch_size, cfg.seq_len, cfg.d_model)\n",
    "my_dummy_data.shape"
   ]
  },
  {
   "cell_type": "code",
   "execution_count": 3,
   "metadata": {},
   "outputs": [],
   "source": [
    "from layers import AutoCorrelationLayer, AutoCorrelation\n",
    "\n",
    "class SmalModel(nn.Module):\n",
    "    def __init__(self, cfg):\n",
    "        super().__init__()\n",
    "        auto_correletion = AutoCorrelation(\n",
    "            factor=1, # used for top_k prediction thing\n",
    "            attention_dropout=0.05,\n",
    "            output_attention=True,\n",
    "\n",
    "            scale=None, # does nothing (never used)\n",
    "            mask_flag=True, # does nothing (never used)\n",
    "        )\n",
    "\n",
    "        self.autocorr_layer = AutoCorrelationLayer(\n",
    "            correlation=auto_correletion,\n",
    "            d_model=cfg.d_model,\n",
    "            n_heads=cfg.n_heads,\n",
    "            d_keys=None) # Why we not use it? who knows\n",
    "    \n",
    "    def forward(self, x, attn_mask=None):\n",
    "        x = self.autocorr_layer(x,x,x, attn_mask)\n",
    "        return x"
   ]
  },
  {
   "cell_type": "code",
   "execution_count": 4,
   "metadata": {},
   "outputs": [],
   "source": [
    "model = SmalModel(cfg)"
   ]
  },
  {
   "cell_type": "code",
   "execution_count": 5,
   "metadata": {},
   "outputs": [],
   "source": [
    "out = model(my_dummy_data)"
   ]
  },
  {
   "cell_type": "code",
   "execution_count": 6,
   "metadata": {},
   "outputs": [
    {
     "data": {
      "text/plain": [
       "(2, torch.Size([1, 20, 32]), torch.Size([1, 20, 8, 4]))"
      ]
     },
     "execution_count": 6,
     "metadata": {},
     "output_type": "execute_result"
    }
   ],
   "source": [
    "len(out), out[0].shape, out[1].shape"
   ]
  },
  {
   "cell_type": "markdown",
   "metadata": {},
   "source": []
  },
  {
   "cell_type": "code",
   "execution_count": null,
   "metadata": {},
   "outputs": [],
   "source": []
  }
 ],
 "metadata": {
  "kernelspec": {
   "display_name": "Python 3.9.13 ('rl-dev')",
   "language": "python",
   "name": "python3"
  },
  "language_info": {
   "codemirror_mode": {
    "name": "ipython",
    "version": 3
   },
   "file_extension": ".py",
   "mimetype": "text/x-python",
   "name": "python",
   "nbconvert_exporter": "python",
   "pygments_lexer": "ipython3",
   "version": "3.9.13"
  },
  "orig_nbformat": 4,
  "vscode": {
   "interpreter": {
    "hash": "75065e20d4cab023e6aa61189981ea52fb529177a089273f1b654755d810793e"
   }
  }
 },
 "nbformat": 4,
 "nbformat_minor": 2
}
