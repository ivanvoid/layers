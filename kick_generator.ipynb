{
 "cells": [
  {
   "cell_type": "markdown",
   "metadata": {},
   "source": [
    "Credits:  \n",
    "[Autoformer](https://github.com/thuml/Autoformer)  \n",
    "[FEDformer](https://github.com/MAZiqing/FEDformer)  "
   ]
  },
  {
   "cell_type": "code",
   "execution_count": 64,
   "metadata": {},
   "outputs": [],
   "source": [
    "from types import SimpleNamespace\n",
    "cfg = {\n",
    "    # DATA\n",
    "    'dataset_id':0,\n",
    "    'step':20, # step input output \n",
    "    # 'target_len':20, # same for now\n",
    "\n",
    "    # MODEL\n",
    "    'd_model':2,\n",
    "    'n_heads':1,\n",
    "    'batch_size':1,\n",
    "    'seq_len':100,\n",
    "}\n",
    "cfg = SimpleNamespace(**cfg)"
   ]
  },
  {
   "cell_type": "markdown",
   "metadata": {},
   "source": [
    "# PART WHERE DATA HAPPENS "
   ]
  },
  {
   "cell_type": "code",
   "execution_count": 15,
   "metadata": {},
   "outputs": [],
   "source": [
    "import os\n",
    "import torch\n",
    "from scipy.io.wavfile import read\n",
    "import matplotlib.pyplot as plt\n"
   ]
  },
  {
   "cell_type": "code",
   "execution_count": 16,
   "metadata": {},
   "outputs": [],
   "source": [
    "base_paths = [\n",
    "    '../data/music_data/VBB_DRUM_HITS/VBB_KICKS/',\n",
    "    '../data/music_data/SOPHIE_sample_library/SOPHIE_one_shots/SOPHIE_drums/SOPHIE_kicks/all_kicks',\n",
    "    '../data/music_data/Drums/Kicks',\n",
    "    ]\n"
   ]
  },
  {
   "cell_type": "markdown",
   "metadata": {},
   "source": [
    "Challenges:\n",
    "1. Length of the signal\n",
    "2. Scale or magnitude of the data "
   ]
  },
  {
   "cell_type": "code",
   "execution_count": 17,
   "metadata": {},
   "outputs": [],
   "source": [
    "'''\n",
    "For each dataset, \n",
    "Store mean and std for z-score normalization\n",
    "'''\n",
    "mean_std_files = [\n",
    "    'VBB_KICKS_zmean_zstd.yaml',\n",
    "    'SOPHIE_zmean_zstd.yaml',\n",
    "    'Drums_zmean_zstd.yaml'\n",
    "    ]\n",
    "\n",
    "z_scale = {}\n",
    "\n",
    "for i, zs_file in enumerate(mean_std_files):\n",
    "    z_mean = []\n",
    "    z_std = []\n",
    "\n",
    "    path = base_paths[i]\n",
    "    \n",
    "    if not os.path.exists(zs_file):\n",
    "        filenames = os.listdir(path)\n",
    "        filepaths = [os.path.join(path, fn) for fn in filenames]\n",
    "        signals = []\n",
    "        for fp in filepaths: \n",
    "            _, signal = read(fp)\n",
    "            signal = torch.tensor(signal).flatten().float()\n",
    "            signals += [signal]\n",
    "\n",
    "        signals = torch.concat(signals, -1)\n",
    "        z_mean = signals.mean().item()\n",
    "        z_std = signals.std().item()\n",
    "\n",
    "        # save values\n",
    "        with open(zs_file, 'w') as f:\n",
    "            f.write('z_mean:'+str(z_mean)+'\\n')\n",
    "            f.write('z_std:'+str(z_std))\n",
    "            \n",
    "        z_scale[zs_file] = [z_mean, z_std]\n",
    "    \n",
    "    # if files already exist\n",
    "    else:\n",
    "        with open(zs_file, 'r') as f:\n",
    "            z_file = f.read()\n",
    "        \n",
    "        z_file = z_file.split('\\n')\n",
    "        z_mean = float(z_file[0].split(':')[1])\n",
    "        z_std = float(z_file[1].split(':')[1])\n",
    "        # print(z_mean, z_std)\n",
    "        z_scale[zs_file] = [z_mean, z_std]\n"
   ]
  },
  {
   "cell_type": "code",
   "execution_count": 18,
   "metadata": {},
   "outputs": [
    {
     "data": {
      "text/plain": [
       "{'VBB_KICKS_zmean_zstd.yaml': [-561862.3125, 459715136.0],\n",
       " 'SOPHIE_zmean_zstd.yaml': [30967.67578125, 538729664.0],\n",
       " 'Drums_zmean_zstd.yaml': [3.824542284011841, 11310.7451171875]}"
      ]
     },
     "execution_count": 18,
     "metadata": {},
     "output_type": "execute_result"
    }
   ],
   "source": [
    "z_scale"
   ]
  },
  {
   "cell_type": "code",
   "execution_count": 69,
   "metadata": {},
   "outputs": [],
   "source": [
    "class Dataset:\n",
    "    def __init__(self, path, cfg, z_scale):\n",
    "        filepaths = self._get_filepaths(path)\n",
    "        self.samples = self._get_samples(filepaths, cfg, z_scale)\n",
    "        self._len = len(self.samples)\n",
    "\n",
    "    def __getitem__(self, idx):\n",
    "        source = self.samples[idx]\n",
    "        target = source\n",
    "        return source, target\n",
    "\n",
    "    def __len__(self):\n",
    "        return self._len\n",
    "\n",
    "    def _get_filepaths(self, path):\n",
    "        filenames = os.listdir(path)\n",
    "\n",
    "        filepaths = [os.path.join(path, fn) for fn in filenames]\n",
    "        return filepaths \n",
    "\n",
    "    def _get_samples(self, filepaths, cfg, z_scale):\n",
    "        samples = []\n",
    "        z_mean = z_scale[0]\n",
    "        z_std = z_scale[1]\n",
    "\n",
    "        for path in filepaths:\n",
    "            _, signal = read(path)\n",
    "            signal = (torch.tensor(signal) - z_mean) / z_std\n",
    "            position = torch.arange(signal[:,0].size()[0]).unsqueeze(-1)\n",
    "            signal = torch.concat((signal, position), -1)\n",
    "\n",
    "            # Separate signal to samples\n",
    "            for i in range(0, signal.shape[0]-cfg.step, cfg.step):\n",
    "                # print(signal.shape[0],i,i+cfg.step)\n",
    "                samples += [signal[i:i+cfg.step]]\n",
    "        return samples"
   ]
  },
  {
   "cell_type": "code",
   "execution_count": 82,
   "metadata": {},
   "outputs": [
    {
     "name": "stderr",
     "output_type": "stream",
     "text": [
      "/tmp/ipykernel_122606/1586169513.py:27: WavFileWarning: Chunk (non-data) not understood, skipping it.\n",
      "  _, signal = read(path)\n"
     ]
    }
   ],
   "source": [
    "ds_path = base_paths[cfg.dataset_id]\n",
    "\n",
    "key = list(z_scale.keys())[cfg.dataset_id]\n",
    "ds_z_scale = z_scale[key]\n",
    "\n",
    "train_ds = Dataset(ds_path, cfg, ds_z_scale)"
   ]
  },
  {
   "cell_type": "code",
   "execution_count": 84,
   "metadata": {},
   "outputs": [
    {
     "data": {
      "text/plain": [
       "(torch.Size([20, 3]), torch.Size([20, 3]), 192141)"
      ]
     },
     "execution_count": 84,
     "metadata": {},
     "output_type": "execute_result"
    }
   ],
   "source": [
    "a,b = train_ds[0]\n",
    "a.shape, b.shape, len(train_ds)"
   ]
  },
  {
   "cell_type": "code",
   "execution_count": 85,
   "metadata": {},
   "outputs": [
    {
     "data": {
      "image/png": "[encoded data removed]",
      "text/plain": [
       "<Figure size 432x288 with 1 Axes>"
      ]
     },
     "metadata": {
      "needs_background": "light"
     },
     "output_type": "display_data"
    },
    {
     "data": {
      "image/png": "[encoded data removed]",
      "text/plain": [
       "<Figure size 432x288 with 1 Axes>"
      ]
     },
     "metadata": {
      "needs_background": "light"
     },
     "output_type": "display_data"
    },
    {
     "data": {
      "image/png": "[encoded data removed]",
      "text/plain": [
       "<Figure size 432x288 with 1 Axes>"
      ]
     },
     "metadata": {
      "needs_background": "light"
     },
     "output_type": "display_data"
    },
    {
     "data": {
      "image/png": "[encoded data removed]",
      "text/plain": [
       "<Figure size 432x288 with 1 Axes>"
      ]
     },
     "metadata": {
      "needs_background": "light"
     },
     "output_type": "display_data"
    }
   ],
   "source": [
    "key = list(z_scale.keys())[cfg.dataset_id]\n",
    "\n",
    "for i in range(4):\n",
    "    zmean = z_scale[key][0]\n",
    "    zstd = z_scale[key][1]\n",
    "    # print(ds[i].shape)\n",
    "    plt.figure()\n",
    "    # plt.plot(ds[i])\n",
    "    # plt.plot((ds[i][0][:,:2] - zmean) / zstd)\n",
    "    plt.plot(train_ds[i][0][:,:2])\n",
    "    plt.show()"
   ]
  },
  {
   "cell_type": "code",
   "execution_count": 86,
   "metadata": {},
   "outputs": [],
   "source": [
    "from torch.utils.data import DataLoader \n",
    "train_dl = DataLoader(train_ds, batch_size=64, drop_last=True)"
   ]
  },
  {
   "cell_type": "markdown",
   "metadata": {},
   "source": [
    "# PART WHERE MODEL HAPPENS "
   ]
  },
  {
   "cell_type": "code",
   "execution_count": null,
   "metadata": {},
   "outputs": [],
   "source": []
  },
  {
   "cell_type": "code",
   "execution_count": null,
   "metadata": {},
   "outputs": [],
   "source": []
  },
  {
   "cell_type": "code",
   "execution_count": null,
   "metadata": {},
   "outputs": [],
   "source": []
  },
  {
   "cell_type": "code",
   "execution_count": null,
   "metadata": {},
   "outputs": [],
   "source": []
  },
  {
   "cell_type": "code",
   "execution_count": 8,
   "metadata": {},
   "outputs": [
    {
     "data": {
      "text/plain": [
       "torch.Size([1, 100, 2])"
      ]
     },
     "execution_count": 8,
     "metadata": {},
     "output_type": "execute_result"
    }
   ],
   "source": [
    "import torch\n",
    "import torch.nn as nn\n",
    "\n",
    "my_dummy_data = torch.rand(cfg.batch_size, cfg.seq_len, cfg.d_model)\n",
    "my_dummy_data.shape"
   ]
  },
  {
   "cell_type": "code",
   "execution_count": 46,
   "metadata": {},
   "outputs": [],
   "source": [
    "from autocorrelation import AutoCorrelationLayer, AutoCorrelation\n",
    "\n",
    "class SmalModel(nn.Module):\n",
    "    def __init__(self, cfg):\n",
    "        super().__init__()\n",
    "        auto_correletion = AutoCorrelation(\n",
    "            factor=1, # used for top_k prediction thing\n",
    "            attention_dropout=0.05,\n",
    "            output_attention=True,\n",
    "\n",
    "            scale=None, # does nothing (never used)\n",
    "            mask_flag=True, # does nothing (never used)\n",
    "        )\n",
    "\n",
    "        emb_dim = 2\n",
    "        self.f1 = nn.Linear(cfg.d_model, emb_dim)\n",
    "\n",
    "        self.autocorr_layer = AutoCorrelationLayer(\n",
    "            correlation=auto_correletion,\n",
    "            d_model=emb_dim,\n",
    "            n_heads=cfg.n_heads,\n",
    "            d_keys=None) # Why we not use it? who knows\n",
    "    \n",
    "        self.f2 = nn.Linear(emb_dim, cfg.d_model)\n",
    "\n",
    "    def forward(self, x, attn_mask=None):\n",
    "\n",
    "        x = self.f1(x)\n",
    "\n",
    "        x,corr = self.autocorr_layer(x,x,x, attn_mask)\n",
    "\n",
    "        x = self.f2(x)\n",
    "\n",
    "        return x, corr"
   ]
  },
  {
   "cell_type": "code",
   "execution_count": 47,
   "metadata": {},
   "outputs": [
    {
     "data": {
      "text/plain": [
       "torch.Size([1, 100, 2])"
      ]
     },
     "execution_count": 47,
     "metadata": {},
     "output_type": "execute_result"
    }
   ],
   "source": [
    "data = ds[0][:cfg.seq_len].unsqueeze(0).float() / 10000\n",
    "data.shape"
   ]
  },
  {
   "cell_type": "code",
   "execution_count": 48,
   "metadata": {},
   "outputs": [],
   "source": [
    "model = SmalModel(cfg)"
   ]
  },
  {
   "cell_type": "code",
   "execution_count": 49,
   "metadata": {},
   "outputs": [
    {
     "name": "stderr",
     "output_type": "stream",
     "text": [
      "100%|██████████| 100/100 [00:00<00:00, 202.36it/s]\n"
     ]
    }
   ],
   "source": [
    "from tqdm import tqdm\n",
    "criterion_mse =  nn.MSELoss()\n",
    "opt = torch.optim.Adam(model.parameters(), 1e-3)\n",
    "\n",
    "losses = []\n",
    "for epoch in tqdm(range(100)):\n",
    "    out,_ = model(data)\n",
    "\n",
    "    loss = criterion_mse(out, data)\n",
    "    loss.backward()\n",
    "    opt.step()\n",
    "\n",
    "    losses += [loss.item()]\n",
    "    # print(loss.item())"
   ]
  },
  {
   "cell_type": "code",
   "execution_count": 50,
   "metadata": {},
   "outputs": [
    {
     "data": {
      "text/plain": [
       "[<matplotlib.lines.Line2D at 0x7f51d136dd90>]"
      ]
     },
     "execution_count": 50,
     "metadata": {},
     "output_type": "execute_result"
    },
    {
     "data": {
      "image/png": "[encoded data removed]",
      "text/plain": [
       "<Figure size 432x288 with 1 Axes>"
      ]
     },
     "metadata": {
      "needs_background": "light"
     },
     "output_type": "display_data"
    }
   ],
   "source": [
    "plt.plot(losses)\n",
    "# plt.yscale('log')"
   ]
  },
  {
   "cell_type": "code",
   "execution_count": 51,
   "metadata": {},
   "outputs": [
    {
     "data": {
      "image/png": "[encoded data removed]",
      "text/plain": [
       "<Figure size 432x288 with 1 Axes>"
      ]
     },
     "metadata": {
      "needs_background": "light"
     },
     "output_type": "display_data"
    }
   ],
   "source": [
    "plt.figure()\n",
    "plt.plot(out.detach()[0][:,0], label='pred')\n",
    "plt.plot(data[0,:,0], '--', label='data')\n",
    "plt.legend()\n",
    "plt.show()\n"
   ]
  },
  {
   "cell_type": "code",
   "execution_count": null,
   "metadata": {},
   "outputs": [],
   "source": []
  }
 ],
 "metadata": {
  "kernelspec": {
   "display_name": "Python 3.9.13 ('rl-dev')",
   "language": "python",
   "name": "python3"
  },
  "language_info": {
   "codemirror_mode": {
    "name": "ipython",
    "version": 3
   },
   "file_extension": ".py",
   "mimetype": "text/x-python",
   "name": "python",
   "nbconvert_exporter": "python",
   "pygments_lexer": "ipython3",
   "version": "3.9.13"
  },
  "orig_nbformat": 4,
  "vscode": {
   "interpreter": {
    "hash": "75065e20d4cab023e6aa61189981ea52fb529177a089273f1b654755d810793e"
   }
  }
 },
 "nbformat": 4,
 "nbformat_minor": 2
}
