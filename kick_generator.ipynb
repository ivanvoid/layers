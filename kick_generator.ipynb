{
 "cells": [
  {
   "cell_type": "markdown",
   "metadata": {},
   "source": [
    "Credits:  \n",
    "[Autoformer](https://github.com/thuml/Autoformer)  \n",
    "[FEDformer](https://github.com/MAZiqing/FEDformer)  "
   ]
  },
  {
   "cell_type": "code",
   "execution_count": 1,
   "metadata": {},
   "outputs": [],
   "source": [
    "from types import SimpleNamespace\n",
    "cfg = {\n",
    "    # DATA\n",
    "    'dataset_id':0,\n",
    "    'step':20, # step input output \n",
    "    # 'target_len':20, # same for now\n",
    "\n",
    "    # MODEL\n",
    "    'emb_dim':8,\n",
    "    'c_in':2, # dim of features in\n",
    "    'n_heads':1,\n",
    "    'batch_size':1,\n",
    "    'seq_len':100,\n",
    "}\n",
    "cfg = SimpleNamespace(**cfg)"
   ]
  },
  {
   "cell_type": "markdown",
   "metadata": {},
   "source": [
    "# PART WHERE DATA HAPPENS "
   ]
  },
  {
   "cell_type": "code",
   "execution_count": 2,
   "metadata": {},
   "outputs": [],
   "source": [
    "import os\n",
    "import torch\n",
    "from tqdm import tqdm\n",
    "from scipy.io.wavfile import read\n",
    "import matplotlib.pyplot as plt\n"
   ]
  },
  {
   "cell_type": "code",
   "execution_count": 3,
   "metadata": {},
   "outputs": [],
   "source": [
    "base_paths = [\n",
    "    '../data/music_data/VBB_DRUM_HITS/VBB_KICKS/',\n",
    "    '../data/music_data/SOPHIE_sample_library/SOPHIE_one_shots/SOPHIE_drums/SOPHIE_kicks/all_kicks',\n",
    "    '../data/music_data/Drums/Kicks',\n",
    "    ]\n"
   ]
  },
  {
   "cell_type": "markdown",
   "metadata": {},
   "source": [
    "Challenges:\n",
    "1. Length of the signal\n",
    "2. Scale or magnitude of the data "
   ]
  },
  {
   "cell_type": "code",
   "execution_count": 4,
   "metadata": {},
   "outputs": [],
   "source": [
    "'''\n",
    "For each dataset, \n",
    "Store mean and std for z-score normalization\n",
    "'''\n",
    "mean_std_files = [\n",
    "    'VBB_KICKS_zmean_zstd.yaml',\n",
    "    'SOPHIE_zmean_zstd.yaml',\n",
    "    'Drums_zmean_zstd.yaml'\n",
    "    ]\n",
    "\n",
    "z_scale = {}\n",
    "\n",
    "for i, zs_file in enumerate(mean_std_files):\n",
    "    z_mean = []\n",
    "    z_std = []\n",
    "\n",
    "    path = base_paths[i]\n",
    "    \n",
    "    if not os.path.exists(zs_file):\n",
    "        filenames = os.listdir(path)\n",
    "        filepaths = [os.path.join(path, fn) for fn in filenames]\n",
    "        signals = []\n",
    "        for fp in filepaths: \n",
    "            _, signal = read(fp)\n",
    "            signal = torch.tensor(signal).flatten().float()\n",
    "            signals += [signal]\n",
    "\n",
    "        signals = torch.concat(signals, -1)\n",
    "        z_mean = signals.mean().item()\n",
    "        z_std = signals.std().item()\n",
    "\n",
    "        # save values\n",
    "        with open(zs_file, 'w') as f:\n",
    "            f.write('z_mean:'+str(z_mean)+'\\n')\n",
    "            f.write('z_std:'+str(z_std))\n",
    "            \n",
    "        z_scale[zs_file] = [z_mean, z_std]\n",
    "    \n",
    "    # if files already exist\n",
    "    else:\n",
    "        with open(zs_file, 'r') as f:\n",
    "            z_file = f.read()\n",
    "        \n",
    "        z_file = z_file.split('\\n')\n",
    "        z_mean = float(z_file[0].split(':')[1])\n",
    "        z_std = float(z_file[1].split(':')[1])\n",
    "        # print(z_mean, z_std)\n",
    "        z_scale[zs_file] = [z_mean, z_std]\n"
   ]
  },
  {
   "cell_type": "code",
   "execution_count": 5,
   "metadata": {},
   "outputs": [
    {
     "data": {
      "text/plain": [
       "{'VBB_KICKS_zmean_zstd.yaml': [-561862.3125, 459715136.0],\n",
       " 'SOPHIE_zmean_zstd.yaml': [30967.67578125, 538729664.0],\n",
       " 'Drums_zmean_zstd.yaml': [3.824542284011841, 11310.7451171875]}"
      ]
     },
     "execution_count": 5,
     "metadata": {},
     "output_type": "execute_result"
    }
   ],
   "source": [
    "z_scale"
   ]
  },
  {
   "cell_type": "code",
   "execution_count": 6,
   "metadata": {},
   "outputs": [],
   "source": [
    "class Dataset:\n",
    "    def __init__(self, path, cfg, z_scale):\n",
    "        filepaths = self._get_filepaths(path)\n",
    "        self.samples = self._get_samples(filepaths, cfg, z_scale)\n",
    "        self._len = len(self.samples)\n",
    "\n",
    "    def __getitem__(self, idx):\n",
    "        source = self.samples[idx]\n",
    "        target = source\n",
    "        return source, target\n",
    "\n",
    "    def __len__(self):\n",
    "        return self._len\n",
    "\n",
    "    def _get_filepaths(self, path):\n",
    "        filenames = os.listdir(path)\n",
    "\n",
    "        filepaths = [os.path.join(path, fn) for fn in filenames]\n",
    "        return filepaths \n",
    "\n",
    "    def _get_samples(self, filepaths, cfg, z_scale):\n",
    "        samples = []\n",
    "        z_mean = z_scale[0]\n",
    "        z_std = z_scale[1]\n",
    "\n",
    "        for path in filepaths:\n",
    "            _, signal = read(path)\n",
    "            signal = (torch.tensor(signal) - z_mean) / z_std\n",
    "            position = torch.arange(signal[:,0].size()[0]).unsqueeze(-1)\n",
    "            signal = torch.concat((signal, position), -1)\n",
    "\n",
    "            # Separate signal to samples\n",
    "            for i in range(0, signal.shape[0]-cfg.step, cfg.step):\n",
    "                # print(signal.shape[0],i,i+cfg.step)\n",
    "                samples += [signal[i:i+cfg.step]]\n",
    "        return samples"
   ]
  },
  {
   "cell_type": "code",
   "execution_count": 7,
   "metadata": {},
   "outputs": [
    {
     "name": "stderr",
     "output_type": "stream",
     "text": [
      "/tmp/ipykernel_150169/1586169513.py:27: WavFileWarning: Chunk (non-data) not understood, skipping it.\n",
      "  _, signal = read(path)\n"
     ]
    }
   ],
   "source": [
    "ds_path = base_paths[cfg.dataset_id]\n",
    "\n",
    "key = list(z_scale.keys())[cfg.dataset_id]\n",
    "ds_z_scale = z_scale[key]\n",
    "\n",
    "train_ds = Dataset(ds_path, cfg, ds_z_scale)"
   ]
  },
  {
   "cell_type": "code",
   "execution_count": 8,
   "metadata": {},
   "outputs": [
    {
     "data": {
      "text/plain": [
       "(torch.Size([20, 3]), torch.Size([20, 3]), 192141)"
      ]
     },
     "execution_count": 8,
     "metadata": {},
     "output_type": "execute_result"
    }
   ],
   "source": [
    "a,b = train_ds[0]\n",
    "a.shape, b.shape, len(train_ds)"
   ]
  },
  {
   "cell_type": "code",
   "execution_count": 9,
   "metadata": {},
   "outputs": [
    {
     "data": {
      "image/png": "[encoded data removed]",
      "text/plain": [
       "<Figure size 432x288 with 1 Axes>"
      ]
     },
     "metadata": {
      "needs_background": "light"
     },
     "output_type": "display_data"
    }
   ],
   "source": [
    "key = list(z_scale.keys())[cfg.dataset_id]\n",
    "\n",
    "for i in range(1):\n",
    "    zmean = z_scale[key][0]\n",
    "    zstd = z_scale[key][1]\n",
    "    # print(ds[i].shape)\n",
    "    plt.figure()\n",
    "    # plt.plot(ds[i])\n",
    "    # plt.plot((ds[i][0][:,:2] - zmean) / zstd)\n",
    "    plt.plot(train_ds[i][0][:,:2])\n",
    "    plt.show()"
   ]
  },
  {
   "cell_type": "code",
   "execution_count": 10,
   "metadata": {},
   "outputs": [],
   "source": [
    "from torch.utils.data import DataLoader \n",
    "train_dl = DataLoader(train_ds, batch_size=64, drop_last=True)"
   ]
  },
  {
   "cell_type": "markdown",
   "metadata": {},
   "source": [
    "# PART WHERE MODEL HAPPENS \n",
    "kinda"
   ]
  },
  {
   "cell_type": "code",
   "execution_count": 11,
   "metadata": {},
   "outputs": [],
   "source": [
    "source, target = train_ds[1000]"
   ]
  },
  {
   "cell_type": "code",
   "execution_count": 12,
   "metadata": {},
   "outputs": [
    {
     "data": {
      "text/plain": [
       "tensor([[-2.6886e-01, -2.6886e-01,  2.0000e+04],\n",
       "        [-2.6179e-01, -2.6179e-01,  2.0001e+04],\n",
       "        [-2.5489e-01, -2.5489e-01,  2.0002e+04],\n",
       "        [-2.4792e-01, -2.4792e-01,  2.0003e+04],\n",
       "        [-2.4093e-01, -2.4093e-01,  2.0004e+04],\n",
       "        [-2.3385e-01, -2.3385e-01,  2.0005e+04],\n",
       "        [-2.2674e-01, -2.2674e-01,  2.0006e+04],\n",
       "        [-2.1979e-01, -2.1979e-01,  2.0007e+04],\n",
       "        [-2.1265e-01, -2.1265e-01,  2.0008e+04],\n",
       "        [-2.0559e-01, -2.0559e-01,  2.0009e+04],\n",
       "        [-1.9839e-01, -1.9839e-01,  2.0010e+04],\n",
       "        [-1.9131e-01, -1.9131e-01,  2.0011e+04],\n",
       "        [-1.8438e-01, -1.8438e-01,  2.0012e+04],\n",
       "        [-1.7700e-01, -1.7700e-01,  2.0013e+04],\n",
       "        [-1.6990e-01, -1.6990e-01,  2.0014e+04],\n",
       "        [-1.6265e-01, -1.6265e-01,  2.0015e+04],\n",
       "        [-1.5553e-01, -1.5553e-01,  2.0016e+04],\n",
       "        [-1.4835e-01, -1.4835e-01,  2.0017e+04],\n",
       "        [-1.4107e-01, -1.4107e-01,  2.0018e+04],\n",
       "        [-1.3394e-01, -1.3394e-01,  2.0019e+04]])"
      ]
     },
     "execution_count": 12,
     "metadata": {},
     "output_type": "execute_result"
    }
   ],
   "source": [
    "source"
   ]
  },
  {
   "cell_type": "code",
   "execution_count": 13,
   "metadata": {},
   "outputs": [
    {
     "data": {
      "text/plain": [
       "tensor([20000., 20001., 20002., 20003., 20004., 20005., 20006., 20007., 20008.,\n",
       "        20009., 20010., 20011., 20012., 20013., 20014., 20015., 20016., 20017.,\n",
       "        20018., 20019.])"
      ]
     },
     "execution_count": 13,
     "metadata": {},
     "output_type": "execute_result"
    }
   ],
   "source": [
    "position = source[:,2]\n",
    "position"
   ]
  },
  {
   "cell_type": "code",
   "execution_count": 49,
   "metadata": {},
   "outputs": [],
   "source": [
    "'''\n",
    "this guy help me to figure out what is going on with positional encodings\n",
    "https://jamesmccaffrey.wordpress.com/2022/02/09/positional-encoding-for-pytorch-transformer-architecture-models/\n",
    "'''\n",
    "\n",
    "class SimplePositionalEncoding:\n",
    "    def __init__(self, cfg):\n",
    "        self.pos_emb_dim = cfg.emb_dim\n",
    "        self.factor = -torch.log(torch.tensor(10000.0)) / self.pos_emb_dim\n",
    "\n",
    "    def __call__(self, x):\n",
    "        pos_embedings = []\n",
    "        print('x',x.shape)\n",
    "        for i in range(self.pos_emb_dim):\n",
    "            div_term = torch.exp(i * self.factor)\n",
    "            pe = torch.cos(x * div_term).unsqueeze(-1)\n",
    "            print(pe.shape)\n",
    "            pos_embedings += [pe]\n",
    "            \n",
    "        pos_embedings = torch.concat(pos_embedings, -1)\n",
    "\n",
    "        return pos_embedings"
   ]
  },
  {
   "cell_type": "code",
   "execution_count": 51,
   "metadata": {},
   "outputs": [
    {
     "name": "stdout",
     "output_type": "stream",
     "text": [
      "x torch.Size([64, 20])\n",
      "torch.Size([64, 20, 1])\n",
      "torch.Size([64, 20, 1])\n",
      "torch.Size([64, 20, 1])\n",
      "torch.Size([64, 20, 1])\n",
      "torch.Size([64, 20, 1])\n",
      "torch.Size([64, 20, 1])\n",
      "torch.Size([64, 20, 1])\n",
      "torch.Size([64, 20, 1])\n"
     ]
    },
    {
     "data": {
      "text/plain": [
       "tensor([[[ 1.0000,  1.0000,  1.0000,  ...,  1.0000,  1.0000,  1.0000],\n",
       "         [ 0.5403,  0.9504,  0.9950,  ...,  1.0000,  1.0000,  1.0000],\n",
       "         [-0.4161,  0.8066,  0.9801,  ...,  1.0000,  1.0000,  1.0000],\n",
       "         ...,\n",
       "         [-0.2752,  0.6159, -0.1288,  ...,  0.9986,  0.9999,  1.0000],\n",
       "         [ 0.6603,  0.8303, -0.2272,  ...,  0.9984,  0.9998,  1.0000],\n",
       "         [ 0.9887,  0.9625, -0.3233,  ...,  0.9982,  0.9998,  1.0000]],\n",
       "\n",
       "        [[ 0.4081,  0.9991, -0.4161,  ...,  0.9980,  0.9998,  1.0000],\n",
       "         [-0.5477,  0.9367, -0.5048,  ...,  0.9978,  0.9998,  1.0000],\n",
       "         [-1.0000,  0.7814, -0.5885,  ...,  0.9976,  0.9998,  1.0000],\n",
       "         ...,\n",
       "         [ 0.7654,  0.6479, -0.8481,  ...,  0.9932,  0.9993,  0.9999],\n",
       "         [ 0.9551,  0.8527, -0.7910,  ...,  0.9928,  0.9993,  0.9999],\n",
       "         [ 0.2666,  0.9729, -0.7259,  ...,  0.9924,  0.9992,  0.9999]],\n",
       "\n",
       "        [[-0.6669,  0.9966, -0.6536,  ...,  0.9920,  0.9992,  0.9999],\n",
       "         [-0.9873,  0.9215, -0.5748,  ...,  0.9916,  0.9992,  0.9999],\n",
       "         [-0.4000,  0.7550, -0.4903,  ...,  0.9912,  0.9991,  0.9999],\n",
       "         ...,\n",
       "         [ 0.8999,  0.6789,  0.8347,  ...,  0.9838,  0.9984,  0.9998],\n",
       "         [ 0.1192,  0.8736,  0.8855,  ...,  0.9832,  0.9983,  0.9998],\n",
       "         [-0.7711,  0.9816,  0.9275,  ...,  0.9826,  0.9983,  0.9998]],\n",
       "\n",
       "        ...,\n",
       "\n",
       "        [[ 0.4871, -0.8150, -0.8668,  ..., -0.7542,  0.3436,  0.9265],\n",
       "         [-0.4717, -0.9548, -0.9122,  ..., -0.7521,  0.3427,  0.9264],\n",
       "         [-0.9968, -0.9999, -0.9486,  ..., -0.7500,  0.3418,  0.9263],\n",
       "         ...,\n",
       "         [ 0.7056, -0.0454, -0.3829,  ..., -0.7178,  0.3276,  0.9245],\n",
       "         [ 0.9775, -0.3538, -0.2887,  ..., -0.7156,  0.3267,  0.9243],\n",
       "         [ 0.3507, -0.6272, -0.1917,  ..., -0.7134,  0.3257,  0.9242]],\n",
       "\n",
       "        [[-0.5986, -0.8383, -0.0928,  ..., -0.7112,  0.3248,  0.9241],\n",
       "         [-0.9975, -0.9663,  0.0071,  ..., -0.7089,  0.3239,  0.9240],\n",
       "         [-0.4793, -0.9984,  0.1069,  ..., -0.7067,  0.3229,  0.9239],\n",
       "         ...,\n",
       "         [ 0.9349, -0.0867,  0.9993,  ..., -0.6724,  0.3087,  0.9220],\n",
       "         [ 0.2064, -0.3922,  0.9907,  ..., -0.6700,  0.3077,  0.9219],\n",
       "         [-0.7119, -0.6589,  0.9722,  ..., -0.6677,  0.3068,  0.9218]],\n",
       "\n",
       "        [[-0.9756, -0.8601,  0.9440,  ..., -0.6653,  0.3058,  0.9217],\n",
       "         [-0.3424, -0.9761,  0.9063,  ..., -0.6630,  0.3049,  0.9215],\n",
       "         [ 0.6056, -0.9953,  0.8596,  ..., -0.6606,  0.3039,  0.9214],\n",
       "         ...,\n",
       "         [ 0.0574, -0.1278, -0.4489,  ..., -0.6242,  0.2896,  0.9196],\n",
       "         [-0.8091, -0.4299, -0.5358,  ..., -0.6218,  0.2886,  0.9194],\n",
       "         [-0.9317, -0.6894, -0.6174,  ..., -0.6193,  0.2877,  0.9193]]])"
      ]
     },
     "execution_count": 51,
     "metadata": {},
     "output_type": "execute_result"
    }
   ],
   "source": [
    "\n",
    "pos_encoding = SimplePositionalEncoding(cfg)\n",
    "# pos_embedings = pos_encoding(position)\n",
    "\n",
    "pos_encoding(source[:,:,2])"
   ]
  },
  {
   "cell_type": "code",
   "execution_count": 34,
   "metadata": {},
   "outputs": [
    {
     "name": "stdout",
     "output_type": "stream",
     "text": [
      "torch.Size([1, 20])\n",
      "torch.Size([1, 20])\n",
      "torch.Size([1, 20])\n",
      "torch.Size([1, 20])\n",
      "torch.Size([1, 20])\n",
      "torch.Size([1, 20])\n",
      "torch.Size([1, 20])\n",
      "torch.Size([1, 20])\n"
     ]
    }
   ],
   "source": []
  },
  {
   "cell_type": "code",
   "execution_count": 35,
   "metadata": {},
   "outputs": [
    {
     "data": {
      "text/plain": [
       "<matplotlib.image.AxesImage at 0x7fd22dbc8460>"
      ]
     },
     "execution_count": 35,
     "metadata": {},
     "output_type": "execute_result"
    },
    {
     "data": {
      "image/png": "[encoded data removed]",
      "text/plain": [
       "<Figure size 720x288 with 1 Axes>"
      ]
     },
     "metadata": {
      "needs_background": "light"
     },
     "output_type": "display_data"
    }
   ],
   "source": [
    "plt.matshow(pos_embedings)"
   ]
  },
  {
   "cell_type": "code",
   "execution_count": 36,
   "metadata": {},
   "outputs": [
    {
     "name": "stdout",
     "output_type": "stream",
     "text": [
      "torch.Size([64, 20, 3])\n",
      "torch.Size([64, 20, 1]) torch.Size([64, 20, 2])\n",
      "torch.Size([1, 20])\n",
      "torch.Size([1, 20])\n",
      "torch.Size([1, 20])\n",
      "torch.Size([1, 20])\n",
      "torch.Size([1, 20])\n",
      "torch.Size([1, 20])\n",
      "torch.Size([1, 20])\n",
      "torch.Size([1, 20])\n",
      "torch.Size([8, 20]) torch.Size([64, 20, 8])\n"
     ]
    },
    {
     "ename": "ZeroDivisionError",
     "evalue": "division by zero",
     "output_type": "error",
     "traceback": [
      "\u001b[0;31m---------------------------------------------------------------------------\u001b[0m",
      "\u001b[0;31mZeroDivisionError\u001b[0m                         Traceback (most recent call last)",
      "\u001b[1;32m/home/ivanvoid/Projects/layers/kick_generator.ipynb Cell 21\u001b[0m in \u001b[0;36m<cell line: 65>\u001b[0;34m()\u001b[0m\n\u001b[1;32m     <a href='vscode-notebook-cell:/home/ivanvoid/Projects/layers/kick_generator.ipynb#X61sZmlsZQ%3D%3D?line=61'>62</a>\u001b[0m target_position \u001b[39m=\u001b[39m target[:,\u001b[39m2\u001b[39m]\n\u001b[1;32m     <a href='vscode-notebook-cell:/home/ivanvoid/Projects/layers/kick_generator.ipynb#X61sZmlsZQ%3D%3D?line=63'>64</a>\u001b[0m \u001b[39mprint\u001b[39m(source[:,:,:]\u001b[39m.\u001b[39mshape)\n\u001b[0;32m---> <a href='vscode-notebook-cell:/home/ivanvoid/Projects/layers/kick_generator.ipynb#X61sZmlsZQ%3D%3D?line=64'>65</a>\u001b[0m out \u001b[39m=\u001b[39m model(source, target_position)\n",
      "File \u001b[0;32m~/miniconda3/envs/rl-dev/lib/python3.9/site-packages/torch/nn/modules/module.py:1130\u001b[0m, in \u001b[0;36mModule._call_impl\u001b[0;34m(self, *input, **kwargs)\u001b[0m\n\u001b[1;32m   1126\u001b[0m \u001b[39m# If we don't have any hooks, we want to skip the rest of the logic in\u001b[39;00m\n\u001b[1;32m   1127\u001b[0m \u001b[39m# this function, and just call forward.\u001b[39;00m\n\u001b[1;32m   1128\u001b[0m \u001b[39mif\u001b[39;00m \u001b[39mnot\u001b[39;00m (\u001b[39mself\u001b[39m\u001b[39m.\u001b[39m_backward_hooks \u001b[39mor\u001b[39;00m \u001b[39mself\u001b[39m\u001b[39m.\u001b[39m_forward_hooks \u001b[39mor\u001b[39;00m \u001b[39mself\u001b[39m\u001b[39m.\u001b[39m_forward_pre_hooks \u001b[39mor\u001b[39;00m _global_backward_hooks\n\u001b[1;32m   1129\u001b[0m         \u001b[39mor\u001b[39;00m _global_forward_hooks \u001b[39mor\u001b[39;00m _global_forward_pre_hooks):\n\u001b[0;32m-> 1130\u001b[0m     \u001b[39mreturn\u001b[39;00m forward_call(\u001b[39m*\u001b[39;49m\u001b[39minput\u001b[39;49m, \u001b[39m*\u001b[39;49m\u001b[39m*\u001b[39;49mkwargs)\n\u001b[1;32m   1131\u001b[0m \u001b[39m# Do not call functions when jit is used\u001b[39;00m\n\u001b[1;32m   1132\u001b[0m full_backward_hooks, non_full_backward_hooks \u001b[39m=\u001b[39m [], []\n",
      "\u001b[1;32m/home/ivanvoid/Projects/layers/kick_generator.ipynb Cell 21\u001b[0m in \u001b[0;36mSmallerModel.forward\u001b[0;34m(self, source, target_position, attn_mask)\u001b[0m\n\u001b[1;32m     <a href='vscode-notebook-cell:/home/ivanvoid/Projects/layers/kick_generator.ipynb#X61sZmlsZQ%3D%3D?line=42'>43</a>\u001b[0m src_enc \u001b[39m=\u001b[39m \u001b[39mself\u001b[39m\u001b[39m.\u001b[39msrc_encoder(data)\n\u001b[1;32m     <a href='vscode-notebook-cell:/home/ivanvoid/Projects/layers/kick_generator.ipynb#X61sZmlsZQ%3D%3D?line=44'>45</a>\u001b[0m \u001b[39mprint\u001b[39m(pos_enc\u001b[39m.\u001b[39mshape, src_enc\u001b[39m.\u001b[39mshape)\n\u001b[0;32m---> <a href='vscode-notebook-cell:/home/ivanvoid/Projects/layers/kick_generator.ipynb#X61sZmlsZQ%3D%3D?line=46'>47</a>\u001b[0m \u001b[39m1\u001b[39;49m\u001b[39m/\u001b[39;49m\u001b[39m0\u001b[39;49m\n\u001b[1;32m     <a href='vscode-notebook-cell:/home/ivanvoid/Projects/layers/kick_generator.ipynb#X61sZmlsZQ%3D%3D?line=48'>49</a>\u001b[0m pos_dec \u001b[39m=\u001b[39m \u001b[39mself\u001b[39m\u001b[39m.\u001b[39mpos_encoder(target_position)\n\u001b[1;32m     <a href='vscode-notebook-cell:/home/ivanvoid/Projects/layers/kick_generator.ipynb#X61sZmlsZQ%3D%3D?line=50'>51</a>\u001b[0m x \u001b[39m=\u001b[39m \u001b[39mself\u001b[39m\u001b[39m.\u001b[39mf1(x)\n",
      "\u001b[0;31mZeroDivisionError\u001b[0m: division by zero"
     ]
    }
   ],
   "source": [
    "import torch\n",
    "import torch.nn as nn\n",
    "from autocorrelation import AutoCorrelationLayer, AutoCorrelation, TokenEmbedding\n",
    "\n",
    "class SmallerModel(nn.Module):\n",
    "    '''\n",
    "    Like autoformer but smaller\n",
    "    '''\n",
    "    def __init__(self, cfg):\n",
    "        super().__init__()\n",
    "\n",
    "        self.pos_encoder = SimplePositionalEncoding(cfg)\n",
    "        self.src_encoder = TokenEmbedding(cfg.c_in, cfg.emb_dim)\n",
    "\n",
    "        auto_correletion = AutoCorrelation(\n",
    "            factor=1, # used for top_k prediction thing\n",
    "            attention_dropout=0.05,\n",
    "            output_attention=True,\n",
    "\n",
    "            scale=None, # does nothing (never used)\n",
    "            mask_flag=True, # does nothing (never used)\n",
    "        )\n",
    "\n",
    "        emb_dim = 2\n",
    "        self.f1 = nn.Linear(cfg.c_in, emb_dim)\n",
    "\n",
    "        self.autocorr_layer = AutoCorrelationLayer(\n",
    "            correlation=auto_correletion,\n",
    "            d_model=emb_dim,\n",
    "            n_heads=cfg.n_heads,\n",
    "            d_keys=None) # Why we not use it? who knows\n",
    "    \n",
    "        self.f2 = nn.Linear(emb_dim, cfg.c_in)\n",
    "\n",
    "    def forward(self, source, target_position, attn_mask=None):\n",
    "        data = source[:,:,:2]\n",
    "        position = source[:,:,2].unsqueeze(-1)\n",
    "        print(position.shape, data.shape)\n",
    "\n",
    "        # HERE WE USE POWER OF ENCODER !!!\n",
    "        # encoding position (batch_size, seq_len, )\n",
    "        pos_enc = self.pos_encoder(position)\n",
    "        src_enc = self.src_encoder(data)\n",
    "\n",
    "        print(pos_enc.shape, src_enc.shape)\n",
    "\n",
    "        1/0\n",
    "\n",
    "        pos_dec = self.pos_encoder(target_position)\n",
    "\n",
    "        x = self.f1(x)\n",
    "\n",
    "        x,corr = self.autocorr_layer(x,x,x, attn_mask)\n",
    "\n",
    "        x = self.f2(x)\n",
    "\n",
    "        return x, corr\n",
    "\n",
    "model = SmallerModel(cfg)\n",
    "batch = next(iter(train_dl))\n",
    "source, target = batch\n",
    "target_position = target[:,2]\n",
    "\n",
    "print(source[:,:,:].shape)\n",
    "out = model(source, target_position)"
   ]
  },
  {
   "cell_type": "code",
   "execution_count": 22,
   "metadata": {},
   "outputs": [
    {
     "name": "stdout",
     "output_type": "stream",
     "text": [
      "torch.Size([64, 20, 2])\n"
     ]
    },
    {
     "data": {
      "text/plain": [
       "[<matplotlib.lines.Line2D at 0x7fd22df9ed60>,\n",
       " <matplotlib.lines.Line2D at 0x7fd22df9edc0>]"
      ]
     },
     "execution_count": 22,
     "metadata": {},
     "output_type": "execute_result"
    },
    {
     "data": {
      "image/png": "[encoded data removed]",
      "text/plain": [
       "<Figure size 432x288 with 1 Axes>"
      ]
     },
     "metadata": {
      "needs_background": "light"
     },
     "output_type": "display_data"
    }
   ],
   "source": [
    "data = source[:,:,:2]\n",
    "print(data.shape)\n",
    "plt.plot(data[-1])"
   ]
  },
  {
   "cell_type": "code",
   "execution_count": 224,
   "metadata": {},
   "outputs": [
    {
     "name": "stderr",
     "output_type": "stream",
     "text": [
      "  0%|          | 0/100 [00:00<?, ?it/s]\n"
     ]
    },
    {
     "ename": "RuntimeError",
     "evalue": "mat1 and mat2 shapes cannot be multiplied (1280x3 and 2x2)",
     "output_type": "error",
     "traceback": [
      "\u001b[0;31m---------------------------------------------------------------------------\u001b[0m",
      "\u001b[0;31mRuntimeError\u001b[0m                              Traceback (most recent call last)",
      "\u001b[1;32m/home/ivanvoid/Projects/layers/kick_generator.ipynb Cell 22\u001b[0m in \u001b[0;36m<cell line: 5>\u001b[0;34m()\u001b[0m\n\u001b[1;32m      <a href='vscode-notebook-cell:/home/ivanvoid/Projects/layers/kick_generator.ipynb#X60sZmlsZQ%3D%3D?line=6'>7</a>\u001b[0m \u001b[39mfor\u001b[39;00m batch \u001b[39min\u001b[39;00m train_dl:\n\u001b[1;32m      <a href='vscode-notebook-cell:/home/ivanvoid/Projects/layers/kick_generator.ipynb#X60sZmlsZQ%3D%3D?line=7'>8</a>\u001b[0m     source, target \u001b[39m=\u001b[39m batch\n\u001b[0;32m----> <a href='vscode-notebook-cell:/home/ivanvoid/Projects/layers/kick_generator.ipynb#X60sZmlsZQ%3D%3D?line=8'>9</a>\u001b[0m     out,_ \u001b[39m=\u001b[39m model(source)\n\u001b[1;32m     <a href='vscode-notebook-cell:/home/ivanvoid/Projects/layers/kick_generator.ipynb#X60sZmlsZQ%3D%3D?line=9'>10</a>\u001b[0m     \u001b[39m1\u001b[39m\u001b[39m/\u001b[39m\u001b[39m0\u001b[39m\n\u001b[1;32m     <a href='vscode-notebook-cell:/home/ivanvoid/Projects/layers/kick_generator.ipynb#X60sZmlsZQ%3D%3D?line=11'>12</a>\u001b[0m     loss \u001b[39m=\u001b[39m criterion_mse(out, target)\n",
      "File \u001b[0;32m~/miniconda3/envs/rl-dev/lib/python3.9/site-packages/torch/nn/modules/module.py:1130\u001b[0m, in \u001b[0;36mModule._call_impl\u001b[0;34m(self, *input, **kwargs)\u001b[0m\n\u001b[1;32m   1126\u001b[0m \u001b[39m# If we don't have any hooks, we want to skip the rest of the logic in\u001b[39;00m\n\u001b[1;32m   1127\u001b[0m \u001b[39m# this function, and just call forward.\u001b[39;00m\n\u001b[1;32m   1128\u001b[0m \u001b[39mif\u001b[39;00m \u001b[39mnot\u001b[39;00m (\u001b[39mself\u001b[39m\u001b[39m.\u001b[39m_backward_hooks \u001b[39mor\u001b[39;00m \u001b[39mself\u001b[39m\u001b[39m.\u001b[39m_forward_hooks \u001b[39mor\u001b[39;00m \u001b[39mself\u001b[39m\u001b[39m.\u001b[39m_forward_pre_hooks \u001b[39mor\u001b[39;00m _global_backward_hooks\n\u001b[1;32m   1129\u001b[0m         \u001b[39mor\u001b[39;00m _global_forward_hooks \u001b[39mor\u001b[39;00m _global_forward_pre_hooks):\n\u001b[0;32m-> 1130\u001b[0m     \u001b[39mreturn\u001b[39;00m forward_call(\u001b[39m*\u001b[39;49m\u001b[39minput\u001b[39;49m, \u001b[39m*\u001b[39;49m\u001b[39m*\u001b[39;49mkwargs)\n\u001b[1;32m   1131\u001b[0m \u001b[39m# Do not call functions when jit is used\u001b[39;00m\n\u001b[1;32m   1132\u001b[0m full_backward_hooks, non_full_backward_hooks \u001b[39m=\u001b[39m [], []\n",
      "\u001b[1;32m/home/ivanvoid/Projects/layers/kick_generator.ipynb Cell 22\u001b[0m in \u001b[0;36mSmalModel.forward\u001b[0;34m(self, x, attn_mask)\u001b[0m\n\u001b[1;32m     <a href='vscode-notebook-cell:/home/ivanvoid/Projects/layers/kick_generator.ipynb#X60sZmlsZQ%3D%3D?line=25'>26</a>\u001b[0m \u001b[39mdef\u001b[39;00m \u001b[39mforward\u001b[39m(\u001b[39mself\u001b[39m, x, attn_mask\u001b[39m=\u001b[39m\u001b[39mNone\u001b[39;00m):\n\u001b[0;32m---> <a href='vscode-notebook-cell:/home/ivanvoid/Projects/layers/kick_generator.ipynb#X60sZmlsZQ%3D%3D?line=27'>28</a>\u001b[0m     x \u001b[39m=\u001b[39m \u001b[39mself\u001b[39;49m\u001b[39m.\u001b[39;49mf1(x)\n\u001b[1;32m     <a href='vscode-notebook-cell:/home/ivanvoid/Projects/layers/kick_generator.ipynb#X60sZmlsZQ%3D%3D?line=29'>30</a>\u001b[0m     x,corr \u001b[39m=\u001b[39m \u001b[39mself\u001b[39m\u001b[39m.\u001b[39mautocorr_layer(x,x,x, attn_mask)\n\u001b[1;32m     <a href='vscode-notebook-cell:/home/ivanvoid/Projects/layers/kick_generator.ipynb#X60sZmlsZQ%3D%3D?line=31'>32</a>\u001b[0m     x \u001b[39m=\u001b[39m \u001b[39mself\u001b[39m\u001b[39m.\u001b[39mf2(x)\n",
      "File \u001b[0;32m~/miniconda3/envs/rl-dev/lib/python3.9/site-packages/torch/nn/modules/module.py:1130\u001b[0m, in \u001b[0;36mModule._call_impl\u001b[0;34m(self, *input, **kwargs)\u001b[0m\n\u001b[1;32m   1126\u001b[0m \u001b[39m# If we don't have any hooks, we want to skip the rest of the logic in\u001b[39;00m\n\u001b[1;32m   1127\u001b[0m \u001b[39m# this function, and just call forward.\u001b[39;00m\n\u001b[1;32m   1128\u001b[0m \u001b[39mif\u001b[39;00m \u001b[39mnot\u001b[39;00m (\u001b[39mself\u001b[39m\u001b[39m.\u001b[39m_backward_hooks \u001b[39mor\u001b[39;00m \u001b[39mself\u001b[39m\u001b[39m.\u001b[39m_forward_hooks \u001b[39mor\u001b[39;00m \u001b[39mself\u001b[39m\u001b[39m.\u001b[39m_forward_pre_hooks \u001b[39mor\u001b[39;00m _global_backward_hooks\n\u001b[1;32m   1129\u001b[0m         \u001b[39mor\u001b[39;00m _global_forward_hooks \u001b[39mor\u001b[39;00m _global_forward_pre_hooks):\n\u001b[0;32m-> 1130\u001b[0m     \u001b[39mreturn\u001b[39;00m forward_call(\u001b[39m*\u001b[39;49m\u001b[39minput\u001b[39;49m, \u001b[39m*\u001b[39;49m\u001b[39m*\u001b[39;49mkwargs)\n\u001b[1;32m   1131\u001b[0m \u001b[39m# Do not call functions when jit is used\u001b[39;00m\n\u001b[1;32m   1132\u001b[0m full_backward_hooks, non_full_backward_hooks \u001b[39m=\u001b[39m [], []\n",
      "File \u001b[0;32m~/miniconda3/envs/rl-dev/lib/python3.9/site-packages/torch/nn/modules/linear.py:114\u001b[0m, in \u001b[0;36mLinear.forward\u001b[0;34m(self, input)\u001b[0m\n\u001b[1;32m    113\u001b[0m \u001b[39mdef\u001b[39;00m \u001b[39mforward\u001b[39m(\u001b[39mself\u001b[39m, \u001b[39minput\u001b[39m: Tensor) \u001b[39m-\u001b[39m\u001b[39m>\u001b[39m Tensor:\n\u001b[0;32m--> 114\u001b[0m     \u001b[39mreturn\u001b[39;00m F\u001b[39m.\u001b[39;49mlinear(\u001b[39minput\u001b[39;49m, \u001b[39mself\u001b[39;49m\u001b[39m.\u001b[39;49mweight, \u001b[39mself\u001b[39;49m\u001b[39m.\u001b[39;49mbias)\n",
      "\u001b[0;31mRuntimeError\u001b[0m: mat1 and mat2 shapes cannot be multiplied (1280x3 and 2x2)"
     ]
    }
   ],
   "source": [
    "criterion_mse =  nn.MSELoss()\n",
    "opt = torch.optim.Adam(model.parameters(), 1e-3)\n",
    "\n",
    "losses = []\n",
    "for epoch in tqdm(range(100)):\n",
    "\n",
    "    for batch in train_dl:\n",
    "        source, target = batch\n",
    "        out,_ = model(source)\n",
    "        1/0\n",
    "\n",
    "        loss = criterion_mse(out, target)\n",
    "        loss.backward()\n",
    "        opt.step()\n",
    "\n",
    "        losses += [loss.item()]\n",
    "        break\n",
    "    break\n",
    "    print(loss.item())"
   ]
  },
  {
   "cell_type": "code",
   "execution_count": null,
   "metadata": {},
   "outputs": [],
   "source": []
  },
  {
   "cell_type": "code",
   "execution_count": null,
   "metadata": {},
   "outputs": [],
   "source": []
  },
  {
   "cell_type": "code",
   "execution_count": 8,
   "metadata": {},
   "outputs": [
    {
     "data": {
      "text/plain": [
       "torch.Size([1, 100, 2])"
      ]
     },
     "execution_count": 8,
     "metadata": {},
     "output_type": "execute_result"
    }
   ],
   "source": [
    "\n",
    "\n",
    "my_dummy_data = torch.rand(cfg.batch_size, cfg.seq_len, cfg.d_model)\n",
    "my_dummy_data.shape"
   ]
  },
  {
   "cell_type": "code",
   "execution_count": 46,
   "metadata": {},
   "outputs": [],
   "source": []
  },
  {
   "cell_type": "code",
   "execution_count": 47,
   "metadata": {},
   "outputs": [
    {
     "data": {
      "text/plain": [
       "torch.Size([1, 100, 2])"
      ]
     },
     "execution_count": 47,
     "metadata": {},
     "output_type": "execute_result"
    }
   ],
   "source": [
    "data = ds[0][:cfg.seq_len].unsqueeze(0).float() / 10000\n",
    "data.shape"
   ]
  },
  {
   "cell_type": "code",
   "execution_count": 48,
   "metadata": {},
   "outputs": [],
   "source": []
  },
  {
   "cell_type": "code",
   "execution_count": 49,
   "metadata": {},
   "outputs": [
    {
     "name": "stderr",
     "output_type": "stream",
     "text": [
      "100%|██████████| 100/100 [00:00<00:00, 202.36it/s]\n"
     ]
    }
   ],
   "source": []
  },
  {
   "cell_type": "code",
   "execution_count": 50,
   "metadata": {},
   "outputs": [
    {
     "data": {
      "text/plain": [
       "[<matplotlib.lines.Line2D at 0x7f51d136dd90>]"
      ]
     },
     "execution_count": 50,
     "metadata": {},
     "output_type": "execute_result"
    },
    {
     "data": {
      "image/png": "[encoded data removed]",
      "text/plain": [
       "<Figure size 432x288 with 1 Axes>"
      ]
     },
     "metadata": {
      "needs_background": "light"
     },
     "output_type": "display_data"
    }
   ],
   "source": [
    "plt.plot(losses)\n",
    "# plt.yscale('log')"
   ]
  },
  {
   "cell_type": "code",
   "execution_count": 51,
   "metadata": {},
   "outputs": [
    {
     "data": {
      "image/png": "[encoded data removed]",
      "text/plain": [
       "<Figure size 432x288 with 1 Axes>"
      ]
     },
     "metadata": {
      "needs_background": "light"
     },
     "output_type": "display_data"
    }
   ],
   "source": [
    "plt.figure()\n",
    "plt.plot(out.detach()[0][:,0], label='pred')\n",
    "plt.plot(data[0,:,0], '--', label='data')\n",
    "plt.legend()\n",
    "plt.show()\n"
   ]
  },
  {
   "cell_type": "code",
   "execution_count": null,
   "metadata": {},
   "outputs": [],
   "source": []
  }
 ],
 "metadata": {
  "kernelspec": {
   "display_name": "Python 3.9.13 ('rl-dev')",
   "language": "python",
   "name": "python3"
  },
  "language_info": {
   "codemirror_mode": {
    "name": "ipython",
    "version": 3
   },
   "file_extension": ".py",
   "mimetype": "text/x-python",
   "name": "python",
   "nbconvert_exporter": "python",
   "pygments_lexer": "ipython3",
   "version": "3.9.13"
  },
  "orig_nbformat": 4,
  "vscode": {
   "interpreter": {
    "hash": "75065e20d4cab023e6aa61189981ea52fb529177a089273f1b654755d810793e"
   }
  }
 },
 "nbformat": 4,
 "nbformat_minor": 2
}
